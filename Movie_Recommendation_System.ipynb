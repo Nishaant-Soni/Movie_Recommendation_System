{
  "nbformat": 4,
  "nbformat_minor": 0,
  "metadata": {
    "colab": {
      "provenance": [],
      "gpuType": "T4"
    },
    "kernelspec": {
      "name": "python3",
      "display_name": "Python 3"
    },
    "language_info": {
      "name": "python"
    },
    "accelerator": "GPU"
  },
  "cells": [
    {
      "cell_type": "code",
      "source": [
        "import pandas as pd\n",
        "\n",
        "# Load user data\n",
        "users = pd.read_csv('users.dat', sep='::', header=None, engine='python',\n",
        "                    names=['user_id', 'gender', 'age', 'occupation', 'zip_code'])\n",
        "\n",
        "# Load rating data\n",
        "ratings = pd.read_csv('ratings.dat', sep='::', header=None, engine='python',\n",
        "                      names=['user_id', 'movie_id', 'rating', 'timestamp'])\n",
        "\n",
        "# Load movie data\n",
        "movies = pd.read_csv('movies.dat', sep='::', header=None, engine='python',\n",
        "                     names=['movie_id', 'title', 'genres'], encoding='latin-1')\n",
        "\n",
        "# Display the first few rows of each dataframe\n",
        "print(\"Users DataFrame:\")\n",
        "print(users.head())\n",
        "\n",
        "print(\"\\nRatings DataFrame:\")\n",
        "print(ratings.head())\n",
        "\n",
        "print(\"\\nMovies DataFrame:\")\n",
        "print(movies.head())"
      ],
      "metadata": {
        "colab": {
          "base_uri": "https://localhost:8080/"
        },
        "id": "_Vt2dCi-KtRE",
        "outputId": "39ecb6e0-f1a8-4ad4-e88e-00970882207e"
      },
      "execution_count": 62,
      "outputs": [
        {
          "output_type": "stream",
          "name": "stdout",
          "text": [
            "Users DataFrame:\n",
            "   user_id gender  age  occupation zip_code\n",
            "0        1      F    1          10    48067\n",
            "1        2      M   56          16    70072\n",
            "2        3      M   25          15    55117\n",
            "3        4      M   45           7    02460\n",
            "4        5      M   25          20    55455\n",
            "\n",
            "Ratings DataFrame:\n",
            "   user_id  movie_id  rating  timestamp\n",
            "0        1      1193       5  978300760\n",
            "1        1       661       3  978302109\n",
            "2        1       914       3  978301968\n",
            "3        1      3408       4  978300275\n",
            "4        1      2355       5  978824291\n",
            "\n",
            "Movies DataFrame:\n",
            "   movie_id                               title                        genres\n",
            "0         1                    Toy Story (1995)   Animation|Children's|Comedy\n",
            "1         2                      Jumanji (1995)  Adventure|Children's|Fantasy\n",
            "2         3             Grumpier Old Men (1995)                Comedy|Romance\n",
            "3         4            Waiting to Exhale (1995)                  Comedy|Drama\n",
            "4         5  Father of the Bride Part II (1995)                        Comedy\n"
          ]
        }
      ]
    },
    {
      "cell_type": "code",
      "source": [
        "import torch\n",
        "from torch.utils.data import Dataset, DataLoader\n",
        "# Assuming previous data loading steps\n",
        "\n",
        "# Merge ratings with movies\n",
        "data = pd.merge(ratings, movies, on='movie_id')\n",
        "\n",
        "# Merge the result with users\n",
        "data = pd.merge(data, users, on='user_id')\n",
        "\n",
        "# Display the first few rows of the merged dataframe\n",
        "print(\"Merged DataFrame:\")\n",
        "print(data.head())\n",
        "\n",
        "# Encode user_id and movie_id as categorical data\n",
        "data['user_id'] = data['user_id'].astype('category').cat.codes\n",
        "data['movie_id'] = data['movie_id'].astype('category').cat.codes\n",
        "\n",
        "# Convert the data into PyTorch tensors\n",
        "class MovieLensDataset(Dataset):\n",
        "    def __init__(self, data):\n",
        "        self.user_ids = torch.tensor(data['user_id'].values, dtype=torch.long)\n",
        "        self.movie_ids = torch.tensor(data['movie_id'].values, dtype=torch.long)\n",
        "        self.ratings = torch.tensor(data['rating'].values, dtype=torch.float32)\n",
        "\n",
        "    def __len__(self):\n",
        "        return len(self.ratings)\n",
        "\n",
        "    def __getitem__(self, idx):\n",
        "        return self.user_ids[idx], self.movie_ids[idx], self.ratings[idx]\n",
        "\n",
        "from sklearn.model_selection import train_test_split\n",
        "\n",
        "# Split the data into training and test sets\n",
        "train_data, test_data = train_test_split(data, test_size=0.2, random_state=42)\n",
        "\n",
        "train_dataset = MovieLensDataset(train_data)\n",
        "test_dataset = MovieLensDataset(test_data)\n",
        "\n",
        "from torch.utils.data import DataLoader\n",
        "\n",
        "train_loader = DataLoader(dataset=train_dataset, batch_size=64, shuffle=True)\n",
        "test_loader = DataLoader(dataset=test_dataset, batch_size=64, shuffle=False)"
      ],
      "metadata": {
        "colab": {
          "base_uri": "https://localhost:8080/"
        },
        "id": "AnSQ5wQrLrkY",
        "outputId": "ffc99ac4-0efc-4d3c-92f0-1961c70a996e"
      },
      "execution_count": 63,
      "outputs": [
        {
          "output_type": "stream",
          "name": "stdout",
          "text": [
            "Merged DataFrame:\n",
            "   user_id  movie_id  rating  timestamp  \\\n",
            "0        1      1193       5  978300760   \n",
            "1        1       661       3  978302109   \n",
            "2        1       914       3  978301968   \n",
            "3        1      3408       4  978300275   \n",
            "4        1      2355       5  978824291   \n",
            "\n",
            "                                    title                        genres  \\\n",
            "0  One Flew Over the Cuckoo's Nest (1975)                         Drama   \n",
            "1        James and the Giant Peach (1996)  Animation|Children's|Musical   \n",
            "2                     My Fair Lady (1964)               Musical|Romance   \n",
            "3                  Erin Brockovich (2000)                         Drama   \n",
            "4                    Bug's Life, A (1998)   Animation|Children's|Comedy   \n",
            "\n",
            "  gender  age  occupation zip_code  \n",
            "0      F    1          10    48067  \n",
            "1      F    1          10    48067  \n",
            "2      F    1          10    48067  \n",
            "3      F    1          10    48067  \n",
            "4      F    1          10    48067  \n"
          ]
        }
      ]
    },
    {
      "cell_type": "code",
      "source": [
        "#import torch.nn as nn\n",
        "\n",
        "# class MatrixFactorization(nn.Module):\n",
        "#     def __init__(self, num_users, num_items, num_factors):\n",
        "#         super(MatrixFactorization, self).__init__()\n",
        "#         self.user_factors = nn.Embedding(num_users, num_factors)\n",
        "#         self.item_factors = nn.Embedding(num_items, num_factors)\n",
        "\n",
        "#     def forward(self, user_ids, item_ids):\n",
        "#         user_embedding = self.user_factors(user_ids)\n",
        "#         item_embedding = self.item_factors(item_ids)\n",
        "#         return (user_embedding * item_embedding).sum(1)\n",
        "\n",
        "# num_users = data['user_id'].nunique()\n",
        "# num_items = data['movie_id'].nunique()\n",
        "# num_factors = 10\n",
        "\n",
        "# model = MatrixFactorization(num_users, num_items, num_factors)\n",
        "\n",
        "# class MatrixFactorizationWithBias(nn.Module):\n",
        "#     def __init__(self, num_users, num_movies, num_factors):\n",
        "#         super(MatrixFactorizationWithBias, self).__init__()\n",
        "#         self.user_factors = nn.Embedding(num_users, num_factors)\n",
        "#         self.movie_factors = nn.Embedding(num_movies, num_factors)\n",
        "#         self.user_biases = nn.Embedding(num_users, 1)\n",
        "#         self.movie_biases = nn.Embedding(num_movies, 1)\n",
        "#         self.global_bias = nn.Parameter(torch.tensor([0.0]))\n",
        "\n",
        "#     def forward(self, user_ids, movie_ids):\n",
        "#         user_embedding = self.user_factors(user_ids)\n",
        "#         movie_embedding = self.movie_factors(movie_ids)\n",
        "#         user_bias = self.user_biases(user_ids).squeeze()\n",
        "#         movie_bias = self.movie_biases(movie_ids).squeeze()\n",
        "#         dot_product = (user_embedding * movie_embedding).sum(1)\n",
        "#         return dot_product + user_bias + movie_bias + self.global_bias\n",
        "\n",
        "# num_users = data['user_id'].nunique()\n",
        "# num_items = data['movie_id'].nunique()\n",
        "# num_factors = 10\n",
        "\n",
        "# model = MatrixFactorizationWithBias(num_users, num_items, num_factors)"
      ],
      "metadata": {
        "id": "D0CohdeuL_Sf"
      },
      "execution_count": 46,
      "outputs": []
    },
    {
      "cell_type": "code",
      "source": [
        "import torch.nn as nn\n",
        "\n",
        "class NeuralCollaborativeFiltering(nn.Module):\n",
        "    def __init__(self, num_users, num_movies, num_factors, hidden_units):\n",
        "        super(NeuralCollaborativeFiltering, self).__init__()\n",
        "        self.user_embedding = nn.Embedding(num_users, num_factors)\n",
        "        self.movie_embedding = nn.Embedding(num_movies, num_factors)\n",
        "        self.hidden_layers = nn.Sequential(\n",
        "            nn.Linear(num_factors * 2, hidden_units),\n",
        "            nn.ReLU(),\n",
        "            nn.Linear(hidden_units, 1)\n",
        "        )\n",
        "\n",
        "    def forward(self, user_ids, movie_ids):\n",
        "        user_embedding = self.user_embedding(user_ids)\n",
        "        movie_embedding = self.movie_embedding(movie_ids)\n",
        "        concatenated = torch.cat([user_embedding, movie_embedding], dim=1)\n",
        "        output = self.hidden_layers(concatenated).squeeze()\n",
        "        return output"
      ],
      "metadata": {
        "id": "1H0EV2mJSxkv"
      },
      "execution_count": 64,
      "outputs": []
    },
    {
      "cell_type": "code",
      "source": [
        "import torch.optim as optim\n",
        "import numpy as np\n",
        "\n",
        "num_users = data['user_id'].nunique()\n",
        "num_items = data['movie_id'].nunique()\n",
        "num_factors = 10\n",
        "hidden_units = 64\n",
        "model = NeuralCollaborativeFiltering(num_users, num_items, num_factors, hidden_units)\n",
        "optimizer = optim.Adam(model.parameters(), lr=0.01)\n",
        "criterion = nn.MSELoss()\n",
        "mae_criterion = nn.L1Loss()\n",
        "\n",
        "num_epochs = 10\n",
        "model.train()\n",
        "\n",
        "for epoch in range(num_epochs):\n",
        "    total_loss = 0\n",
        "    for user_ids, movie_ids, ratings in train_loader:\n",
        "        optimizer.zero_grad()\n",
        "        predictions = model(user_ids, movie_ids)\n",
        "        loss = criterion(predictions, ratings)\n",
        "        loss.backward()\n",
        "        optimizer.step()\n",
        "        total_loss += loss.item()\n",
        "\n",
        "    print(f'Epoch {epoch+1}, Loss: {total_loss/len(train_loader)}')\n",
        "\n",
        "# Evaluate the model\n",
        "model.eval()\n",
        "total_loss = 0\n",
        "total_mae = 0\n",
        "with torch.no_grad():\n",
        "    for user_ids, movie_ids, ratings in test_loader:\n",
        "        predictions = model(user_ids, movie_ids)\n",
        "        mse_loss = criterion(predictions, ratings)\n",
        "        mae_loss = mae_criterion(predictions, ratings)\n",
        "        total_loss += mse_loss.item()\n",
        "        total_mae += mae_loss.item()\n",
        "\n",
        "rmse = np.sqrt(total_loss / len(test_loader))\n",
        "mae = total_mae / len(test_loader)\n",
        "print('\\n')\n",
        "print(f'Test RMSE: {rmse}')\n",
        "print(f'Test MAE: {mae}')"
      ],
      "metadata": {
        "colab": {
          "base_uri": "https://localhost:8080/"
        },
        "id": "rQcDXdHUUJTD",
        "outputId": "9de01902-8819-413e-d5e6-0067fe443565"
      },
      "execution_count": 65,
      "outputs": [
        {
          "output_type": "stream",
          "name": "stdout",
          "text": [
            "Epoch 1, Loss: 0.9375603582647756\n",
            "Epoch 2, Loss: 0.8529020523077239\n",
            "Epoch 3, Loss: 0.8259112923505506\n",
            "Epoch 4, Loss: 0.8108264342990864\n",
            "Epoch 5, Loss: 0.7981639370545095\n",
            "Epoch 6, Loss: 0.7873495619201493\n",
            "Epoch 7, Loss: 0.7781775168723548\n",
            "Epoch 8, Loss: 0.7708472349038651\n",
            "Epoch 9, Loss: 0.7655142007480095\n",
            "Epoch 10, Loss: 0.7610701152985262\n",
            "\n",
            "\n",
            "Test RMSE: 0.9004214332266425\n",
            "Test MAE: 0.7086951161853335\n"
          ]
        }
      ]
    },
    {
      "cell_type": "code",
      "source": [
        "def recommend_for_user(model, user_id, num_recommendations=5):\n",
        "    user_id_tensor = torch.tensor([user_id] * num_items)\n",
        "    movie_id_tensor = torch.tensor(range(num_items))\n",
        "    model.eval()\n",
        "    with torch.no_grad():\n",
        "        predictions = model(user_id_tensor, movie_id_tensor)\n",
        "    top_movie_indices = torch.topk(predictions, num_recommendations).indices.numpy()\n",
        "\n",
        "    # Get the recommended movie IDs\n",
        "    recommended_movie_ids = movies['movie_id'].iloc[top_movie_indices].tolist()\n",
        "\n",
        "    # Fetch movie details\n",
        "    recommended_movies = movies[movies['movie_id'].isin(recommended_movie_ids)]\n",
        "\n",
        "    return recommended_movies\n",
        "\n",
        "# Example user ID\n",
        "user_id = 100\n",
        "recommendations = recommend_for_user(model, user_id)\n",
        "print(f'Recommended movies for user {user_id}:\\n{recommendations}')"
      ],
      "metadata": {
        "colab": {
          "base_uri": "https://localhost:8080/"
        },
        "id": "8qrPV3B-PC0Q",
        "outputId": "8a0fa4af-972d-4968-fd2b-27b7c4c89119"
      },
      "execution_count": 73,
      "outputs": [
        {
          "output_type": "stream",
          "name": "stdout",
          "text": [
            "Recommended movies for user 100:\n",
            "      movie_id                                          title  \\\n",
            "628        633                         Denise Calls Up (1995)   \n",
            "2423      2492                                20 Dates (1998)   \n",
            "2557      2626                       Edge of Seventeen (1998)   \n",
            "2931      3000  Princess Mononoke, The (Mononoke Hime) (1997)   \n",
            "3669      3738                  Sugarland Express, The (1974)   \n",
            "\n",
            "                          genres  \n",
            "628                       Comedy  \n",
            "2423                      Comedy  \n",
            "2557        Comedy|Drama|Romance  \n",
            "2931  Action|Adventure|Animation  \n",
            "3669                       Drama  \n"
          ]
        }
      ]
    }
  ]
}